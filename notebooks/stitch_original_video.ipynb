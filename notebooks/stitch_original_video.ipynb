{
 "cells": [
  {
   "cell_type": "code",
   "execution_count": 99,
   "metadata": {},
   "outputs": [],
   "source": [
    "import cv2\n",
    "import numpy as np\n",
    "from cv2 import VideoWriter, VideoWriter_fourcc\n",
    "import h5py\n",
    "import os"
   ]
  },
  {
   "cell_type": "code",
   "execution_count": 100,
   "metadata": {},
   "outputs": [],
   "source": [
    "def get_vid(fnames):\n",
    "    shape = (720, 1280)\n",
    "    src_path = '/data/vision/phillipi/gen-models/svg/dataset/omnipush/train'\n",
    "    tar_path = '/data/vision/phillipi/gen-models/TAKE_THIS_straight_push_all_shapes_no_weight/abs'\n",
    "    fnames = [fname.replace(src_path, tar_path) for fname in fnames]\n",
    "    fnames = [fname.replace('/motion_surface', '/normal/motion_surface') for fname in fnames]\n",
    "    fnames = [fname + '_sync.h5' for fname in fnames]\n",
    "\n",
    "    vids = []\n",
    "    for fname in fnames:\n",
    "        f = h5py.File(fname, 'r')\n",
    "        vids.append(f.get('RGB_images').value[:-5])        \n",
    "        f.close()\n",
    "    \n",
    "    for i, vid in enumerate(vids):\n",
    "        if i == 0:\n",
    "            vid_stitched = np.copy(vid)\n",
    "        else:\n",
    "            vid_stitched = np.concatenate([vid_stitched, vid], axis=0)\n",
    "    return vid_stitched\n",
    "\n",
    "def save_seqs(vid_stitched, shape_name):\n",
    "    width = 1280\n",
    "    height = 720\n",
    "    FPS = 12\n",
    "    seconds = vid_stitched.shape[0] / 12\n",
    "    \n",
    "    fourcc = VideoWriter_fourcc(*'MP42')\n",
    "    video = VideoWriter('./{}.mp4'.format(shape_name), fourcc, float(FPS), (width, height))\n",
    "    for i in range(vid_stitched.shape[0]):\n",
    "        video.write(vid_stitched[i])"
   ]
  },
  {
   "cell_type": "code",
   "execution_count": 92,
   "metadata": {},
   "outputs": [],
   "source": [
    "DATASET_PATH = '/data/vision/phillipi/gen-models/TAKE_THIS_straight_push_all_shapes_no_weight/abs'\n",
    "shape_names = os.listdir(DATASET_PATH)\n",
    "seq_shape = np.load('seq_shape.npy').item()"
   ]
  },
  {
   "cell_type": "code",
   "execution_count": 101,
   "metadata": {},
   "outputs": [
    {
     "ename": "KeyboardInterrupt",
     "evalue": "",
     "output_type": "error",
     "traceback": [
      "\u001b[0;31m---------------------------------------------------------------------------\u001b[0m",
      "\u001b[0;31mKeyboardInterrupt\u001b[0m                         Traceback (most recent call last)",
      "\u001b[0;32m<ipython-input-101-107102ac5082>\u001b[0m in \u001b[0;36m<module>\u001b[0;34m\u001b[0m\n\u001b[1;32m      5\u001b[0m     \u001b[0;32mfor\u001b[0m \u001b[0mi\u001b[0m \u001b[0;32min\u001b[0m \u001b[0mrange\u001b[0m\u001b[0;34m(\u001b[0m\u001b[0;36m5\u001b[0m\u001b[0;34m)\u001b[0m\u001b[0;34m:\u001b[0m\u001b[0;34m\u001b[0m\u001b[0m\n\u001b[1;32m      6\u001b[0m         \u001b[0mseq\u001b[0m \u001b[0;34m=\u001b[0m \u001b[0mseqs\u001b[0m\u001b[0;34m[\u001b[0m\u001b[0mi\u001b[0m\u001b[0;34m]\u001b[0m\u001b[0;34m\u001b[0m\u001b[0m\n\u001b[0;32m----> 7\u001b[0;31m         \u001b[0mvid_stitched\u001b[0m \u001b[0;34m=\u001b[0m \u001b[0mget_vid\u001b[0m\u001b[0;34m(\u001b[0m\u001b[0mseq\u001b[0m\u001b[0;34m)\u001b[0m\u001b[0;34m\u001b[0m\u001b[0m\n\u001b[0m\u001b[1;32m      8\u001b[0m         \u001b[0msave_seqs\u001b[0m\u001b[0;34m(\u001b[0m\u001b[0mvid_stitched\u001b[0m\u001b[0;34m,\u001b[0m \u001b[0mshape_name\u001b[0m \u001b[0;34m+\u001b[0m \u001b[0;34m'_{}'\u001b[0m\u001b[0;34m.\u001b[0m\u001b[0mformat\u001b[0m\u001b[0;34m(\u001b[0m\u001b[0mi\u001b[0m\u001b[0;34m)\u001b[0m\u001b[0;34m)\u001b[0m\u001b[0;34m\u001b[0m\u001b[0m\n",
      "\u001b[0;32m<ipython-input-100-22c0903faeb2>\u001b[0m in \u001b[0;36mget_vid\u001b[0;34m(fnames)\u001b[0m\n\u001b[1;32m     17\u001b[0m             \u001b[0mvid_stitched\u001b[0m \u001b[0;34m=\u001b[0m \u001b[0mnp\u001b[0m\u001b[0;34m.\u001b[0m\u001b[0mcopy\u001b[0m\u001b[0;34m(\u001b[0m\u001b[0mvid\u001b[0m\u001b[0;34m)\u001b[0m\u001b[0;34m\u001b[0m\u001b[0m\n\u001b[1;32m     18\u001b[0m         \u001b[0;32melse\u001b[0m\u001b[0;34m:\u001b[0m\u001b[0;34m\u001b[0m\u001b[0m\n\u001b[0;32m---> 19\u001b[0;31m             \u001b[0mvid_stitched\u001b[0m \u001b[0;34m=\u001b[0m \u001b[0mnp\u001b[0m\u001b[0;34m.\u001b[0m\u001b[0mconcatenate\u001b[0m\u001b[0;34m(\u001b[0m\u001b[0;34m[\u001b[0m\u001b[0mvid_stitched\u001b[0m\u001b[0;34m,\u001b[0m \u001b[0mvid\u001b[0m\u001b[0;34m]\u001b[0m\u001b[0;34m,\u001b[0m \u001b[0maxis\u001b[0m\u001b[0;34m=\u001b[0m\u001b[0;36m0\u001b[0m\u001b[0;34m)\u001b[0m\u001b[0;34m\u001b[0m\u001b[0m\n\u001b[0m\u001b[1;32m     20\u001b[0m     \u001b[0;32mreturn\u001b[0m \u001b[0mvid_stitched\u001b[0m\u001b[0;34m\u001b[0m\u001b[0m\n\u001b[1;32m     21\u001b[0m \u001b[0;34m\u001b[0m\u001b[0m\n",
      "\u001b[0;31mKeyboardInterrupt\u001b[0m: "
     ]
    }
   ],
   "source": [
    "for shape_name in shape_names:\n",
    "    if shape_name in ['done_shapes', 'proccessed_data', 'wrong_data_vicon']:\n",
    "        continue\n",
    "    seqs = seq_shape[shape_name]\n",
    "    for i in range(5):\n",
    "        seq = seqs[i]\n",
    "        vid_stitched = get_vid(seq)\n",
    "        save_seqs(vid_stitched, shape_name + '_{}'.format(i))"
   ]
  }
 ],
 "metadata": {
  "kernelspec": {
   "display_name": "Python 3",
   "language": "python",
   "name": "python3"
  },
  "language_info": {
   "codemirror_mode": {
    "name": "ipython",
    "version": 3
   },
   "file_extension": ".py",
   "mimetype": "text/x-python",
   "name": "python",
   "nbconvert_exporter": "python",
   "pygments_lexer": "ipython3",
   "version": "3.6.5"
  }
 },
 "nbformat": 4,
 "nbformat_minor": 2
}
